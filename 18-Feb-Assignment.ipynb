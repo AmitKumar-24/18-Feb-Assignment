{
 "cells": [
  {
   "cell_type": "markdown",
   "id": "67a6efa5-1a41-4deb-b451-9070c45f24ce",
   "metadata": {},
   "source": [
    "Q1. What is an API? Give an example, where an API is used in real life. "
   ]
  },
  {
   "cell_type": "markdown",
   "id": "456f3999-2599-485b-9653-1125b2a90982",
   "metadata": {},
   "source": [
    "API : stands for Application Programming Interface. An API allows two softwares application to interact with each other by sharing data and functionality. An API act as a mediator between two applications, enabling them two communicate with each other.\n",
    "\n",
    "Real life API usage : \n",
    "\n",
    "Whatsapp API : Today, all of us use WhatsApp to stay in touch with our family and friends. WhatsApp Business API is an API meant for large and medium business, enabling business enterprises to interact with customers worldwide. so WhatsApp, which which was initially launced for personal use for everyone, has also paved its way into the business arena. the main advantage of using it is that WhatsApp Business API gives plenty of integrations with other services as well. It also supports various media message features like text, images, location, audio files, interactive buttons, etc. \n",
    "\n",
    "Google Maps : The Google Maps API gives users the privilege of nearly limitless geographic aptitude at their fingertips. Search nearby restaurants, niche shops, and whatever else is in relative distance to your location.\n",
    "\n",
    "You may have been using this API example more often than you realize. Each time you glimpsed business hours, reviews, contact information, or anything of that nature from that handy box on your screen, that is the Google Maps API in action.\n",
    "\n",
    "To that same effect, clicking on the map icon in that box will open the Google Maps app for you or take you straight to the Google Maps website."
   ]
  },
  {
   "cell_type": "markdown",
   "id": "60da34b2-1480-472e-a660-e91213057869",
   "metadata": {},
   "source": [
    "Q2. Give advantages and disadvantages of using API.  "
   ]
  },
  {
   "cell_type": "markdown",
   "id": "469bf12d-2d4b-44aa-9908-a098518912f0",
   "metadata": {},
   "source": [
    "Advantages of API :\n",
    "\n",
    "    1. Efficiency : API produces efficient, quicker, and more reliable results than the outputs produced by human beings in an organization.\n",
    "    \n",
    "    2. Flexible delivery of services: API provides fast and flexible delivery of services according to developer's requirements.\n",
    "    \n",
    "    3. Integration: the best feature of API is that it allows the movements of data between various sites and thus enhances the integrated user experience.\n",
    "    \n",
    "    4.Automation: As API makes use of robotic computers rather than humans, it produces better and more automated results.\n",
    "    \n",
    "    5. New functionality :  while using API the developers find new tools and functionality for API exchanges.\n",
    "    \n",
    "Disadvantages of API :\n",
    "\n",
    "    1. Cost : Developing and implementing API is costly at times and requires high maintenance and support from developers.\n",
    "    \n",
    "    2. Security issues : Using API adds another layer of surface which is then prone to attacks. security risk problem is common in APIs."
   ]
  },
  {
   "cell_type": "markdown",
   "id": "5a848ae1-7d0b-422e-bd74-89d5da4e5693",
   "metadata": {},
   "source": [
    "Q3. What is a Web API? Differentiate between API and Web API. "
   ]
  },
  {
   "cell_type": "markdown",
   "id": "60f7090c-df6c-40c9-9531-ecfe3555fca4",
   "metadata": {},
   "source": [
    "A Web API is a set of standards and protocols for accessing web-based software applications or web tools. It provides a way for different software systems to communicate with each other over the internet.\n",
    "\n",
    "APIs and Web Services: Similar, but Not Identical\n",
    "Both APIs and web services are technologies that enable the transfer of data between separate software applications. API is an interface that exposes an application's data to outside software, whereas web applications are one type of API with stricter requirements. These requirements include network communication, SOAP as the primary protocol, and less accessibility for the public. \n",
    "\n",
    "While these definitions might seem quite nuanced, it's essential to comprehend the subtle but important distinctions between web technologies. Armed with this knowledge, you'll be well-equipped for discussions with developers and better understand your product's integrations."
   ]
  },
  {
   "cell_type": "markdown",
   "id": "1fd7a4fe-4598-4152-9489-e4045594cb70",
   "metadata": {},
   "source": [
    "Q4. Explain REST and SOAP Architecture. Mention shortcomings of SOAP. "
   ]
  },
  {
   "cell_type": "markdown",
   "id": "913d3fc3-3848-486f-be28-4dc5273171ee",
   "metadata": {},
   "source": [
    "REST : Rest stands for representational state transfer, and follows the constraints of REST architecture allowing interaction with RESTful web services. it defines a set of functions (GET, PUT, POST, DELETE) that clients use to access server data. The functions used are:\n",
    "\n",
    "GET (retrieve a record)\n",
    "PUT (update a record)\n",
    "POST (create a record)\n",
    "DELETE (delete the record)\n",
    "\n",
    "Its main feature is that REST API is statelessness, i.e., the servers do not save clients’ data between requests.\n",
    "\n",
    "SOAP : Simple Objects Access Protocol is a web communication protocol Today, it’s mostly used to expose web services and transmit data over HTTP/HTTPS. But it’s not limited to them. SOAP, unlike the REST pattern, supports the XML data format only and strongly follows preset standards such as messaging structure, a set of encoding rules, and a convention for providing procedure requests and responses.\n",
    "\n",
    "The built-in functionality to create web-based services allows SOAP to handle communications and make responses language- and platform-independent.\n",
    "\n",
    "SOAP works with XML only\n",
    "Web-transmitted data is usually structured in some way. The two most popular data formats are XML and JSON.\n",
    "\n",
    "XML (or Extensible Markup Language) is a text format that establishes a set of rules to structure messages as both human- and machine-readable records. But XML is verbose as it aims at creating a web document with all its formality. JSON, on the other hand, has a loose structure that focuses on the data itself. Have a look at the image below to get the idea."
   ]
  },
  {
   "cell_type": "markdown",
   "id": "21dd7bb1-73a1-4d51-8845-5636b4880a18",
   "metadata": {},
   "source": [
    "Q5. Differentiate between REST and SOAP. "
   ]
  },
  {
   "cell_type": "markdown",
   "id": "8daf325c-eb26-4def-a621-85c4b54a74d0",
   "metadata": {},
   "source": [
    "There is no direct comparison between SOAP and REST APIs. But there are some points to be listed below which makes you choose better between these two web services. Here are: \n",
    "\n",
    "    1.SOAP stands for Simple Object Access Protocol and REST stands for Representational State Transfer.\n",
    "\n",
    "    2.Since SOAP is a protocol, it follows a strict standard to allow communication between the client and the server whereas REST is an architectural style that doesn’t follow any strict standard but follows six constraints defined by Roy Fielding in 2000. Those constraints are – Uniform Interface, Client-Server, Stateless, Cacheable, Layered System, Code on Demand.\n",
    "    \n",
    "    3.SOAP uses only XML for exchanging information in its message format whereas REST is not restricted to XML and its the choice of implementer which Media-Type to use like XML, JSON, Plain-text. Moreover, REST can use SOAP protocol but SOAP cannot use REST.\n",
    "\n",
    "    4.On behalf of services interfaces to business logic, SOAP uses @WebService whereas REST instead of using interfaces uses URI like @Path.\n",
    "    \n",
    "    5.SOAP is difficult to implement and it requires more bandwidth whereas REST is easy to implement and requires less bandwidth such as smartphones.\n",
    "    \n",
    "    6.Benefits of SOAP over REST as SOAP has ACID compliance transaction. Some of the applications require transaction ability which is accepted by SOAP whereas REST lacks in it.\n",
    "    \n",
    "    7.On the basis of Security, SOAP has SSL( Secure Socket Layer) and WS-security whereas REST has SSL and HTTPS. In the case of Bank Account Password, Card Number, etc. SOAP is preferred over REST. The security issue is all about your application requirement, you have to build security on your own. It’s about what type of protocol you use.\n",
    "    \n",
    "    8.SOAP cannot make use of REST since SOAP is a protocol without any architectural pattern. REST can make use of SOAP because it is an architectural pattern having protocol."
   ]
  },
  {
   "cell_type": "code",
   "execution_count": null,
   "id": "841bb3e8-0879-40a2-b04b-eaed7265003b",
   "metadata": {},
   "outputs": [],
   "source": []
  }
 ],
 "metadata": {
  "kernelspec": {
   "display_name": "Python 3 (ipykernel)",
   "language": "python",
   "name": "python3"
  },
  "language_info": {
   "codemirror_mode": {
    "name": "ipython",
    "version": 3
   },
   "file_extension": ".py",
   "mimetype": "text/x-python",
   "name": "python",
   "nbconvert_exporter": "python",
   "pygments_lexer": "ipython3",
   "version": "3.10.8"
  }
 },
 "nbformat": 4,
 "nbformat_minor": 5
}
